{
 "cells": [
  {
   "cell_type": "code",
   "execution_count": 1,
   "metadata": {},
   "outputs": [],
   "source": [
    "import numpy as np\n",
    "import pandas as pd\n",
    "import sys"
   ]
  },
  {
   "cell_type": "code",
   "execution_count": 2,
   "metadata": {},
   "outputs": [],
   "source": [
    "def activation(signal):\n",
    "    \"\"\" Activation function maps received signal to set {-1, 1}\n",
    "    f(x) = 1 for every x > 0\n",
    "    f(x) = -1 for every x <= 0\n",
    "    Works with numbers, lists and numpy arrays\n",
    "    \"\"\"\n",
    "    if type(signal) in (list, np.ndarray):\n",
    "        return list(map(\n",
    "                lambda x: 1 if x==True else -1,\n",
    "                np.array(signal)>0)\n",
    "        )\n",
    "    elif type(signal) in (int, float, np.int, np.int64, np.float, np.float64):\n",
    "        return 1 if signal > 0 else -1\n",
    "    else:\n",
    "        return sys.exit(\"output signal must be number or array\")"
   ]
  },
  {
   "cell_type": "code",
   "execution_count": 3,
   "metadata": {},
   "outputs": [],
   "source": [
    "class Perceptron(object):\n",
    "    \"\"\"Class represents single layer perceptron\"\"\"\n",
    "    def __init__(self, activation=None, velocity=0.1):\n",
    "        self.weights = np.array([], dtype=float)\n",
    "        self.velocity = velocity # 0 < velocity < 1\n",
    "        self.activation = activation\n",
    "            \n",
    "    def fit(self, X, y):\n",
    "        # Insert one as bias in start of each feature set\n",
    "        X = np.insert(X, 0, 1, axis=1)\n",
    "        self.weights = np.random.uniform(low=0, high=1, size=len(X[0]))\n",
    "        # Fitting\n",
    "        for i, features in enumerate(X):\n",
    "            output_signal = self.activation(features @ self.weights)\n",
    "            if output_signal != y[i]:\n",
    "                self.weights += self.velocity * y[i] * features\n",
    "        return self.weights\n",
    "            \n",
    "    def predict(self, X):\n",
    "        X = np.insert(X.to_numpy(), 0, 1, axis=1) # for bias\n",
    "        return self.activation(X @ self.weights)\n",
    "    \n",
    "    def evaluate_error(self, X, y):\n",
    "        \"\"\" Accuracy\n",
    "        score = right_predicted / all\n",
    "        \"\"\"\n",
    "        X = np.insert(X, 0, 1, axis=1) # for bias\n",
    "        right_predicted = 0\n",
    "        \n",
    "        for i, features in enumerate(X):\n",
    "            res = self.activation(features @ self.weights)\n",
    "            if res == y[i]:\n",
    "                right_predicted += 1\n",
    "        \n",
    "        return 100 * right_predicted / len(X)"
   ]
  },
  {
   "cell_type": "markdown",
   "metadata": {},
   "source": [
    "### Подготовка данных"
   ]
  },
  {
   "cell_type": "code",
   "execution_count": 4,
   "metadata": {},
   "outputs": [],
   "source": [
    "data = pd.read_csv(\"weatherAUS.csv\")\n",
    "for column in data.columns:\n",
    "    data = data[pd.notnull(data[column])]\n",
    "\n",
    "tmp = {\"Yes\": 1, \"No\": -1}\n",
    "data[\"RainTomorrow\"] = list(map(lambda x: tmp[x], data[\"RainTomorrow\"]));\n",
    "\n",
    "data = data._get_numeric_data() # it's illigal\n",
    "\n",
    "X_train = data[:50000]\n",
    "del X_train[\"RainTomorrow\"]\n",
    "y_train = data[\"RainTomorrow\"][:50000]\n",
    "\n",
    "X_test = data[50000:]\n",
    "del X_test[\"RainTomorrow\"]\n",
    "y_test = data[\"RainTomorrow\"][50000:]"
   ]
  },
  {
   "cell_type": "markdown",
   "metadata": {},
   "source": [
    "### Проверка"
   ]
  },
  {
   "cell_type": "code",
   "execution_count": 5,
   "metadata": {},
   "outputs": [
    {
     "data": {
      "text/plain": [
       "array([ 9.20053997e+00,  2.69214025e+03,  5.80319230e+03, -1.31664867e+04,\n",
       "        4.08852507e+03, -7.52745784e+03,  1.30841320e+04, -6.61623205e+02,\n",
       "       -4.43320480e+02, -1.04463525e+04,  1.75160648e+04,  1.07266240e+03,\n",
       "       -4.18417677e+03,  1.99945971e+03,  4.52897009e+03,  4.84554105e+03,\n",
       "        3.76067896e+03,  3.28468653e+04])"
      ]
     },
     "execution_count": 5,
     "metadata": {},
     "output_type": "execute_result"
    }
   ],
   "source": [
    "p = Perceptron(activation=activation, velocity=0.888889)\n",
    "p.fit(X_train.to_numpy(), y_train.to_numpy())"
   ]
  },
  {
   "cell_type": "code",
   "execution_count": 6,
   "metadata": {},
   "outputs": [
    {
     "data": {
      "text/plain": [
       "81.4797507788162"
      ]
     },
     "execution_count": 6,
     "metadata": {},
     "output_type": "execute_result"
    }
   ],
   "source": [
    "p.evaluate_error(X_test.to_numpy(), y_test.to_numpy())"
   ]
  },
  {
   "cell_type": "markdown",
   "metadata": {},
   "source": [
    "### Тюнинг модели"
   ]
  },
  {
   "cell_type": "code",
   "execution_count": 7,
   "metadata": {},
   "outputs": [
    {
     "name": "stdout",
     "output_type": "stream",
     "text": [
      "Velocity: 0.000000\tScore: 88.816199\n",
      "Velocity: 0.010101\tScore: 81.542056\n",
      "Velocity: 0.020202\tScore: 81.526480\n",
      "Velocity: 0.030303\tScore: 81.588785\n",
      "Velocity: 0.040404\tScore: 81.542056\n",
      "Velocity: 0.050505\tScore: 90.342679\n",
      "Velocity: 0.060606\tScore: 81.526480\n",
      "Velocity: 0.070707\tScore: 81.542056\n",
      "Velocity: 0.080808\tScore: 81.542056\n",
      "Velocity: 0.090909\tScore: 81.510903\n",
      "Velocity: 0.101010\tScore: 90.467290\n",
      "Velocity: 0.111111\tScore: 81.526480\n",
      "Velocity: 0.121212\tScore: 81.526480\n",
      "Velocity: 0.131313\tScore: 81.697819\n",
      "Velocity: 0.141414\tScore: 81.573209\n",
      "Velocity: 0.151515\tScore: 81.510903\n",
      "Velocity: 0.161616\tScore: 81.526480\n",
      "Velocity: 0.171717\tScore: 81.542056\n",
      "Velocity: 0.181818\tScore: 81.573209\n",
      "Velocity: 0.191919\tScore: 81.542056\n",
      "Velocity: 0.202020\tScore: 81.542056\n",
      "Velocity: 0.212121\tScore: 82.274143\n",
      "Velocity: 0.222222\tScore: 81.744548\n",
      "Velocity: 0.232323\tScore: 88.707165\n",
      "Velocity: 0.242424\tScore: 81.542056\n",
      "Velocity: 0.252525\tScore: 81.682243\n",
      "Velocity: 0.262626\tScore: 81.542056\n",
      "Velocity: 0.272727\tScore: 88.676012\n",
      "Velocity: 0.282828\tScore: 81.542056\n",
      "Velocity: 0.292929\tScore: 88.660436\n",
      "Velocity: 0.303030\tScore: 81.526480\n",
      "Velocity: 0.313131\tScore: 88.738318\n",
      "Velocity: 0.323232\tScore: 81.510903\n",
      "Velocity: 0.333333\tScore: 88.816199\n",
      "Velocity: 0.343434\tScore: 81.526480\n",
      "Velocity: 0.353535\tScore: 81.479751\n",
      "Velocity: 0.363636\tScore: 81.542056\n",
      "Velocity: 0.373737\tScore: 81.542056\n",
      "Velocity: 0.383838\tScore: 89.485981\n",
      "Velocity: 0.393939\tScore: 81.526480\n",
      "Velocity: 0.404040\tScore: 81.651090\n",
      "Velocity: 0.414141\tScore: 90.451713\n",
      "Velocity: 0.424242\tScore: 81.542056\n",
      "Velocity: 0.434343\tScore: 81.479751\n",
      "Velocity: 0.444444\tScore: 90.311526\n",
      "Velocity: 0.454545\tScore: 89.688474\n",
      "Velocity: 0.464646\tScore: 81.464174\n",
      "Velocity: 0.474747\tScore: 81.526480\n",
      "Velocity: 0.484848\tScore: 81.526480\n",
      "Velocity: 0.494949\tScore: 81.542056\n",
      "Velocity: 0.505051\tScore: 90.342679\n",
      "Velocity: 0.515152\tScore: 81.573209\n",
      "Velocity: 0.525253\tScore: 81.542056\n",
      "Velocity: 0.535354\tScore: 88.722741\n",
      "Velocity: 0.545455\tScore: 81.713396\n",
      "Velocity: 0.555556\tScore: 81.542056\n",
      "Velocity: 0.565657\tScore: 81.526480\n",
      "Velocity: 0.575758\tScore: 81.526480\n",
      "Velocity: 0.585859\tScore: 88.785047\n",
      "Velocity: 0.595960\tScore: 81.526480\n",
      "Velocity: 0.606061\tScore: 81.542056\n",
      "Velocity: 0.616162\tScore: 81.542056\n",
      "Velocity: 0.626263\tScore: 89.158879\n",
      "Velocity: 0.636364\tScore: 90.327103\n",
      "Velocity: 0.646465\tScore: 81.479751\n",
      "Velocity: 0.656566\tScore: 81.417445\n",
      "Velocity: 0.666667\tScore: 81.526480\n",
      "Velocity: 0.676768\tScore: 90.264798\n",
      "Velocity: 0.686869\tScore: 81.526480\n",
      "Velocity: 0.696970\tScore: 81.526480\n",
      "Velocity: 0.707071\tScore: 81.542056\n",
      "Velocity: 0.717172\tScore: 81.542056\n",
      "Velocity: 0.727273\tScore: 88.691589\n",
      "Velocity: 0.737374\tScore: 81.542056\n",
      "Velocity: 0.747475\tScore: 89.626168\n",
      "Velocity: 0.757576\tScore: 90.295950\n",
      "Velocity: 0.767677\tScore: 81.542056\n",
      "Velocity: 0.777778\tScore: 81.542056\n",
      "Velocity: 0.787879\tScore: 81.588785\n",
      "Velocity: 0.797980\tScore: 90.046729\n",
      "Velocity: 0.808081\tScore: 90.295950\n",
      "Velocity: 0.818182\tScore: 81.401869\n",
      "Velocity: 0.828283\tScore: 81.526480\n",
      "Velocity: 0.838384\tScore: 81.573209\n",
      "Velocity: 0.848485\tScore: 81.542056\n",
      "Velocity: 0.858586\tScore: 81.526480\n",
      "Velocity: 0.868687\tScore: 81.775701\n",
      "Velocity: 0.878788\tScore: 81.526480\n",
      "Velocity: 0.888889\tScore: 81.542056\n",
      "Velocity: 0.898990\tScore: 81.573209\n",
      "Velocity: 0.909091\tScore: 81.401869\n",
      "Velocity: 0.919192\tScore: 81.728972\n",
      "Velocity: 0.929293\tScore: 81.542056\n",
      "Velocity: 0.939394\tScore: 81.573209\n",
      "Velocity: 0.949495\tScore: 81.526480\n",
      "Velocity: 0.959596\tScore: 88.738318\n",
      "Velocity: 0.969697\tScore: 81.588785\n",
      "Velocity: 0.979798\tScore: 81.526480\n",
      "Velocity: 0.989899\tScore: 89.470405\n",
      "Velocity: 1.000000\tScore: 88.738318\n",
      "\n",
      "Best velocity: 0.101010\tScore: 90.467290\n",
      "CPU times: user 34.5 s, sys: 377 ms, total: 34.8 s\n",
      "Wall time: 35.4 s\n"
     ]
    }
   ],
   "source": [
    "%%time\n",
    "\n",
    "velocity_range = np.linspace(0, 1, 100)\n",
    "max = (-1, 0)\n",
    "\n",
    "for v in velocity_range:\n",
    "    p = Perceptron(activation=activation, velocity=0.1)\n",
    "    p.fit(X_train.to_numpy(), y_train.to_numpy())\n",
    "    score = p.evaluate_error(X_test.to_numpy(), y_test.to_numpy())\n",
    "    print(\"Velocity: %f\\tScore: %f\" % (v, score))\n",
    "    if score > max[1]:\n",
    "        max = (v, score)\n",
    "print(\"\\nBest velocity: %f\\tScore: %f\" % max)"
   ]
  }
 ],
 "metadata": {
  "kernelspec": {
   "display_name": "Python 3",
   "language": "python",
   "name": "python3"
  },
  "language_info": {
   "codemirror_mode": {
    "name": "ipython",
    "version": 3
   },
   "file_extension": ".py",
   "mimetype": "text/x-python",
   "name": "python",
   "nbconvert_exporter": "python",
   "pygments_lexer": "ipython3",
   "version": "3.7.5"
  }
 },
 "nbformat": 4,
 "nbformat_minor": 4
}
